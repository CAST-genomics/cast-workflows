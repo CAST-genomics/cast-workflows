{
 "cells": [
  {
   "cell_type": "code",
   "execution_count": null,
   "id": "0",
   "metadata": {},
   "outputs": [],
   "source": [
    "import pandas as pd\n",
    "import matplotlib.pyplot as plt\n",
    "import numpy as np\n",
    "import seaborn as sns\n",
    "import ast"
   ]
  },
  {
   "cell_type": "code",
   "execution_count": null,
   "id": "1",
   "metadata": {},
   "outputs": [],
   "source": [
    "pcs = pd.read_csv(\"AOU_10_PCS.tsv\", sep=\"\\t\")\n",
    "ancestry = pd.read_csv(\"id_ancestry.tsv\", sep=\"\\t\")\n",
    "pc = pd.read_csv(\"platelet_count_new_phenocovar.csv\")\n",
    "eur = pd.read_csv(\"EUR_WHITE.csv\")\n",
    "eur['ancestry'] = 'eur'\n",
    "not_afr = pd.read_csv(\"NOT_AFR_BLACK.csv\")\n",
    "not_afr['ancestry'] = 'not afr'\n",
    "afr = pd.read_csv(\"AFR_BLACK.csv\")\n",
    "afr['ancestry'] = 'afr'"
   ]
  },
  {
   "cell_type": "code",
   "execution_count": null,
   "id": "2",
   "metadata": {},
   "outputs": [],
   "source": [
    "not_afr_set_diff_eur = not_afr[~not_afr['person_id'].isin(set(eur['person_id']))]\n",
    "not_afr_set_diff_eur['ancestry'] = 'not_afr_not_eur'"
   ]
  },
  {
   "cell_type": "code",
   "execution_count": null,
   "id": "3",
   "metadata": {},
   "outputs": [],
   "source": [
    "all_ancestries = pd.concat([not_afr, afr], axis=0)\n",
    "all_ancestries.drop(columns='sex_at_birth_Male', inplace=True)\n",
    "all_ancestries"
   ]
  },
  {
   "cell_type": "code",
   "execution_count": null,
   "id": "4",
   "metadata": {},
   "outputs": [],
   "source": [
    "pcs.rename(columns={'IID':'person_id'}, inplace=True)"
   ]
  },
  {
   "cell_type": "code",
   "execution_count": null,
   "id": "5",
   "metadata": {},
   "outputs": [],
   "source": [
    "pcs_all_ancestries = pcs.merge(all_ancestries, on='person_id', how='left')\n",
    "pcs_all_ancestries['ancestry'] = pcs_all_ancestries['ancestry'].fillna('other')"
   ]
  },
  {
   "cell_type": "code",
   "execution_count": null,
   "id": "6",
   "metadata": {},
   "outputs": [],
   "source": [
    "def plot_pc1vpc2_byancestry(dforig, cohorts, cohortcolors):\n",
    "    df = dforig.copy()\n",
    "    df['color'] = df['ancestry'].apply(lambda x: x if x in cohorts else 'all others')\n",
    "    #print(df[df['color']==cohort].shape)\n",
    "    pc_x = 'pc1'\n",
    "    pc_y = 'pc2'\n",
    "    custom_palette = {}\n",
    "    for c, ccol in zip(cohorts, cohortcolors):\n",
    "        custom_palette[c] = ccol\n",
    "    custom_palette['all others'] = '#7f7f7f'\n",
    "    #sns.set_palette(custom_palette)\n",
    "    sns.scatterplot(data=df, x=df[pc_x], y=df[pc_y], hue='color', alpha=1, palette=custom_palette, s=10)\n",
    "    plt.legend(loc='upper left', bbox_to_anchor=(1, 1))\n",
    "    #plt.title(f'{pc_x} vs {pc_y}')\n",
    "    plt.legend(title=\"Ancestry\")\n",
    "    plt.title(\"AOU\")\n",
    "\n",
    "    plt.savefig('AOU'+''.join(cohorts), dpi=300, bbox_inches='tight')\n",
    "    plt.tight_layout()\n",
    "    plt.show()"
   ]
  },
  {
   "cell_type": "code",
   "execution_count": null,
   "id": "7",
   "metadata": {},
   "outputs": [],
   "source": [
    "plot_pc1vpc2_byancestry(pcs_all_ancestries, ['not afr', 'afr'], ['blue', 'red'])"
   ]
  },
  {
   "cell_type": "code",
   "execution_count": null,
   "id": "8",
   "metadata": {},
   "outputs": [],
   "source": [
    "pcs_all_ancestries[pcs_all_ancestries['ancestry']=='other']"
   ]
  },
  {
   "cell_type": "code",
   "execution_count": null,
   "id": "9",
   "metadata": {},
   "outputs": [],
   "source": [
    "pcs_all_ancestries.shape"
   ]
  },
  {
   "cell_type": "code",
   "execution_count": null,
   "id": "10",
   "metadata": {},
   "outputs": [],
   "source": []
  }
 ],
 "metadata": {
  "kernelspec": {
   "display_name": "Python 3",
   "language": "python",
   "name": "python3"
  },
  "language_info": {
   "codemirror_mode": {
    "name": "ipython",
    "version": 3
   },
   "file_extension": ".py",
   "mimetype": "text/x-python",
   "name": "python",
   "nbconvert_exporter": "python",
   "pygments_lexer": "ipython3",
   "version": "3.10.12"
  },
  "toc": {
   "base_numbering": 1,
   "nav_menu": {},
   "number_sections": true,
   "sideBar": true,
   "skip_h1_title": false,
   "title_cell": "Table of Contents",
   "title_sidebar": "Contents",
   "toc_cell": false,
   "toc_position": {},
   "toc_section_display": true,
   "toc_window_display": false
  }
 },
 "nbformat": 4,
 "nbformat_minor": 5
}
