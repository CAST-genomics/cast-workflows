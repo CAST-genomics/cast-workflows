{
 "cells": [
  {
   "cell_type": "code",
   "execution_count": null,
   "id": "0",
   "metadata": {},
   "outputs": [],
   "source": [
    "import matplotlib.pyplot as plt\n",
    "import pandas as pd\n",
    "import numpy as np\n",
    "from matplotlib.colors import ListedColormap\n",
    "import matplotlib.patches as mpatches\n",
    "import matplotlib.lines as mlines"
   ]
  },
  {
   "cell_type": "code",
   "execution_count": null,
   "id": "1",
   "metadata": {},
   "outputs": [],
   "source": [
    "a = np.load(\"1_16849191_18241728_cluster/1_16849191_18241728_indep_regions_plink_maf_kmeans_labels_5clusters.npy\")\n",
    "pcs = np.load(\"1_16849191_18241728_cluster/1_16849191_18241728_indep_regions_plink_maf_pcs.npy\")\n",
    "b = a[a!=4]\n",
    "pcs_b = pcs[a!=4]\n",
    "\n",
    "custom_cmap = ListedColormap(['red', 'blue', 'green', 'orange',\"purple\"])\n",
    "legend_labels = ['Cluster 0', 'Cluster 1', 'Cluster 2', 'Cluster 3', 'Cluster 4']\n",
    "\n",
    "handles = [mlines.Line2D([], [], color=custom_cmap(i), marker='o', linestyle='None',\n",
    "                         markersize=10, label=legend_labels[i]) for i in range(len(legend_labels))]\n",
    "plt.legend(handles=handles, title='Cluster')\n",
    "\n",
    "plt.scatter(pcs[:,0],pcs[:,1],c=a, cmap=custom_cmap, alpha=0.8)\n",
    "plt.xlabel(\"PC1\")\n",
    "plt.ylabel(\"PC2\")\n",
    "plt.savefig(\"1_16849191_18241728_pcs1v2_colored_by_cluster\")\n",
    "plt.show()"
   ]
  },
  {
   "cell_type": "code",
   "execution_count": null,
   "id": "2",
   "metadata": {},
   "outputs": [],
   "source": [
    "b = a[a!=4]\n",
    "pcs_b = pcs[a!=4]\n",
    "\n",
    "custom_cmap = ListedColormap(['red', 'blue', 'green', 'orange',\"purple\"])\n",
    "plt.scatter(pcs[:,0],pcs[:,1],c=a, cmap=custom_cmap, alpha=0.8)"
   ]
  },
  {
   "cell_type": "code",
   "execution_count": null,
   "id": "3",
   "metadata": {},
   "outputs": [],
   "source": [
    "np.unique(a, return_counts=True)"
   ]
  },
  {
   "cell_type": "code",
   "execution_count": null,
   "id": "4",
   "metadata": {},
   "outputs": [],
   "source": [
    "a = np.load(\"1_50127334_51076190_cluster/1_50127334_51076190_indep_regions_plink_maf_kmeans_labels_5clusters.npy\")\n",
    "pcs = np.load(\"1_50127334_51076190_cluster/1_50127334_51076190_indep_regions_plink_maf_pcs.npy\")\n",
    "b = a[a!=4]\n",
    "pcs_b = pcs[a!=4]\n",
    "\n",
    "custom_cmap = ListedColormap(['red', 'blue', 'green', 'orange',\"purple\"])\n",
    "legend_labels = ['Cluster 0', 'Cluster 1', 'Cluster 2', 'Cluster 3', 'Cluster 4']\n",
    "handles = [mlines.Line2D([], [], color=custom_cmap(i), marker='o', linestyle='None',\n",
    "                         markersize=10, label=legend_labels[i]) for i in range(len(legend_labels))]\n",
    "plt.legend(handles=handles, title='Cluster')\n",
    "plt.scatter(pcs[:,0],pcs[:,1],c=a, cmap=custom_cmap, alpha=0.8)\n",
    "plt.xlabel(\"PC1\")\n",
    "plt.ylabel(\"PC2\")\n",
    "plt.savefig(\"1_50127334_51076190_pcs1v2_colored_by_cluster\")\n",
    "plt.show()"
   ]
  },
  {
   "cell_type": "code",
   "execution_count": null,
   "id": "5",
   "metadata": {},
   "outputs": [],
   "source": []
  },
  {
   "cell_type": "code",
   "execution_count": null,
   "id": "6",
   "metadata": {},
   "outputs": [],
   "source": []
  },
  {
   "cell_type": "code",
   "execution_count": null,
   "id": "7",
   "metadata": {},
   "outputs": [],
   "source": []
  },
  {
   "cell_type": "code",
   "execution_count": null,
   "id": "8",
   "metadata": {},
   "outputs": [],
   "source": []
  },
  {
   "cell_type": "code",
   "execution_count": null,
   "id": "9",
   "metadata": {},
   "outputs": [],
   "source": [
    "df = pd.read_csv(\"all_regions_cluster_costs.txt\", sep=\" \", header=None)"
   ]
  },
  {
   "cell_type": "code",
   "execution_count": null,
   "id": "10",
   "metadata": {},
   "outputs": [],
   "source": [
    "df[:5]"
   ]
  },
  {
   "cell_type": "code",
   "execution_count": null,
   "id": "11",
   "metadata": {},
   "outputs": [],
   "source": [
    "df[6] = df[2]/df[1]\n",
    "df[7] = df[3]/df[2]\n",
    "df[8] = df[3]/df[1]"
   ]
  },
  {
   "cell_type": "code",
   "execution_count": null,
   "id": "12",
   "metadata": {},
   "outputs": [],
   "source": [
    "plt.hist(df[6])\n",
    "plt.ylabel(\"kmeans cost ratio: 3 clusters / 1 cluster\",size=12)\n",
    "plt.savefig(\"3_to_1_ratio\")"
   ]
  },
  {
   "cell_type": "code",
   "execution_count": null,
   "id": "13",
   "metadata": {},
   "outputs": [],
   "source": [
    "plt.hist(df[7])\n",
    "plt.ylabel(\"kmeans cost ratio: 5 clusters / 3 cluster\")\n",
    "plt.savefig(\"5_to_3_ratio\")"
   ]
  },
  {
   "cell_type": "code",
   "execution_count": null,
   "id": "14",
   "metadata": {},
   "outputs": [],
   "source": [
    "plt.hist(df[8])"
   ]
  },
  {
   "cell_type": "code",
   "execution_count": null,
   "id": "15",
   "metadata": {},
   "outputs": [],
   "source": [
    "df[df[7]<0.85]"
   ]
  },
  {
   "cell_type": "code",
   "execution_count": null,
   "id": "16",
   "metadata": {},
   "outputs": [],
   "source": [
    "df[df[8]>0.94]"
   ]
  },
  {
   "cell_type": "code",
   "execution_count": null,
   "id": "17",
   "metadata": {},
   "outputs": [],
   "source": [
    "df = pd.read_csv(\"1_10583_1512464_ancestry.tsv\", sep=\"\\t\")"
   ]
  },
  {
   "cell_type": "code",
   "execution_count": null,
   "id": "18",
   "metadata": {},
   "outputs": [],
   "source": [
    "df"
   ]
  },
  {
   "cell_type": "code",
   "execution_count": null,
   "id": "19",
   "metadata": {},
   "outputs": [],
   "source": [
    "labels = df['6'].unique()"
   ]
  },
  {
   "cell_type": "code",
   "execution_count": null,
   "id": "20",
   "metadata": {},
   "outputs": [],
   "source": [
    "#for l in labels:\n",
    "grouped = df.groupby(['6', 'ancestry_pred']).size().unstack().fillna(0)\n",
    "\n",
    "# Plot the histogram\n",
    "grouped.plot(kind='bar', stacked=True)\n",
    "\n",
    "# Add titles and labels\n",
    "plt.title('Histogram by Ancestry Prediction')\n",
    "plt.xlabel('Cluster')\n",
    "plt.ylabel('Count')\n",
    "plt.legend(title='Ancestry')\n",
    "\n",
    "# Show the plot\n",
    "plt.show()"
   ]
  },
  {
   "cell_type": "code",
   "execution_count": null,
   "id": "21",
   "metadata": {},
   "outputs": [],
   "source": [
    "grouped = df.groupby(['6', 'ancestry_pred_other']).size().unstack().fillna(0)\n",
    "\n",
    "# Plot the histogram\n",
    "grouped.plot(kind='bar', stacked=True)\n",
    "\n",
    "# Add titles and labels\n",
    "plt.title('Histogram by Ancestry Prediction')\n",
    "plt.xlabel('Cluster')\n",
    "plt.ylabel('Count')\n",
    "plt.legend(title='Ancestry')\n",
    "\n",
    "# Show the plot\n",
    "plt.show()"
   ]
  },
  {
   "cell_type": "code",
   "execution_count": null,
   "id": "22",
   "metadata": {},
   "outputs": [],
   "source": [
    "from IPython.display import Image\n",
    "Image(filename='1_10583_1512464_ancestry_pred_other.png')"
   ]
  },
  {
   "cell_type": "code",
   "execution_count": null,
   "id": "23",
   "metadata": {},
   "outputs": [],
   "source": []
  }
 ],
 "metadata": {
  "kernelspec": {
   "display_name": "Python 3",
   "language": "python",
   "name": "python3"
  },
  "language_info": {
   "codemirror_mode": {
    "name": "ipython",
    "version": 3
   },
   "file_extension": ".py",
   "mimetype": "text/x-python",
   "name": "python",
   "nbconvert_exporter": "python",
   "pygments_lexer": "ipython3",
   "version": "3.10.12"
  },
  "toc": {
   "base_numbering": 1,
   "nav_menu": {},
   "number_sections": true,
   "sideBar": true,
   "skip_h1_title": false,
   "title_cell": "Table of Contents",
   "title_sidebar": "Contents",
   "toc_cell": false,
   "toc_position": {},
   "toc_section_display": true,
   "toc_window_display": false
  }
 },
 "nbformat": 4,
 "nbformat_minor": 5
}
