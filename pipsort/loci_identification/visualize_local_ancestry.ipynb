{
 "cells": [
  {
   "cell_type": "code",
   "execution_count": null,
   "id": "0",
   "metadata": {},
   "outputs": [],
   "source": [
    "import pandas as pd\n",
    "import matplotlib.pyplot as plt\n",
    "import numpy as np\n",
    "import seaborn as sns\n",
    "import ast\n"
   ]
  },
  {
   "cell_type": "code",
   "execution_count": null,
   "id": "1",
   "metadata": {},
   "outputs": [],
   "source": [
    "def plot_subset(f_saples):\n",
    "    \n",
    "    samples = pd.read_csv(f_samples, sep=\"\\t\")\n",
    "    merge = samples.merge(genotypes, left_on=\"IID\", right_on=\"person_id\", how=\"inner\")\n",
    "    plt.scatter(merge['geno'], merge['phenotype'])\n",
    "    plt.title(f_samples)\n",
    "    return plt"
   ]
  },
  {
   "cell_type": "code",
   "execution_count": null,
   "id": "2",
   "metadata": {},
   "outputs": [],
   "source": [
    "genotypes = pd.read_csv(\"rs11168249genotypes.csv\")\n",
    "genotypes = genotypes[genotypes['geno'] != -9]"
   ]
  },
  {
   "cell_type": "code",
   "execution_count": null,
   "id": "3",
   "metadata": {},
   "outputs": [],
   "source": [
    "files = ['AFR_BLACK_eur_0', 'AFR_BLACK_eur_1', 'AFR_BLACK_eur_2', \n",
    "         'NOT_AFR_BLACK_eur_0', 'NOT_AFR_BLACK_eur_1', 'NOT_AFR_BLACK_eur_2', \n",
    "         'passing_samples_v7_eur_0', 'passing_samples_v7_eur_1', 'passing_samples_v7_eur_2']"
   ]
  },
  {
   "cell_type": "code",
   "execution_count": null,
   "id": "4",
   "metadata": {},
   "outputs": [],
   "source": [
    "fig, axs = plt.subplots(3, 3, figsize=(15, 10))\n",
    "axs = axs.flatten()\n",
    "for i, file in enumerate(files):\n",
    "    samples = pd.read_csv(file, sep=\"\\t\")\n",
    "    merge = samples.merge(genotypes, left_on=\"IID\", right_on=\"person_id\", how=\"inner\")\n",
    "    \n",
    "    sns.boxplot(x='geno', y='phenotype', data=merge, ax=axs[i])\n",
    "\n",
    "    axs[i].set_title(file)  # Set title for each subplot\n",
    "    #axs[i].scatter(merge['geno'], merge['phenotype']) # Example plot (replace with your actual plot)\n",
    "    \n",
    "# Hide any unused subplots (if there are less than 9 files)\n",
    "for j in range(i + 1, len(axs)):\n",
    "    axs[j].axis('off')  # Turn off axes for unused subplots\n",
    "\n",
    "# Adjust layout for better spacing\n",
    "plt.tight_layout()\n",
    "plt.show()"
   ]
  },
  {
   "cell_type": "code",
   "execution_count": null,
   "id": "5",
   "metadata": {},
   "outputs": [],
   "source": [
    "files = ['AFR_BLACK_platelet.tsv', 'NOT_AFR_BLACK_platelet.tsv', 'passing_samples_v7_platelet.tsv']\n",
    "\n",
    "fig, axs = plt.subplots(1, 3, figsize=(15, 5))\n",
    "axs = axs.flatten()\n",
    "for i, file in enumerate(files):\n",
    "    samples = pd.read_csv(file, sep=\"\\t\")\n",
    "    merge = samples.merge(genotypes, left_on=\"IID\", right_on=\"person_id\", how=\"inner\")\n",
    "    \n",
    "    sns.boxplot(x='geno', y='phenotype', data=merge, ax=axs[i])\n",
    "\n",
    "    axs[i].set_title(file)  # Set title for each subplot\n",
    "    #axs[i].scatter(merge['geno'], merge['phenotype']) # Example plot (replace with your actual plot)\n",
    "    \n",
    "# Hide any unused subplots (if there are less than 9 files)\n",
    "for j in range(i + 1, len(axs)):\n",
    "    axs[j].axis('off')  # Turn off axes for unused subplots\n",
    "\n",
    "# Adjust layout for better spacing\n",
    "plt.tight_layout()\n",
    "plt.show()"
   ]
  },
  {
   "cell_type": "code",
   "execution_count": null,
   "id": "6",
   "metadata": {},
   "outputs": [],
   "source": [
    "pcs = pd.read_csv(\"AOU_10_PCS.tsv\", sep=\"\\t\")\n",
    "ancestry = pd.read_csv(\"id_ancestry.tsv\", sep=\"\\t\")\n",
    "pc = pd.read_csv(\"platelet_count_new_phenocovar.csv\")\n",
    "eur = pd.read_csv(\"EUR_WHITE.csv\")\n",
    "not_afr = pd.read_csv(\"NOT_AFR_BLACK.csv\")"
   ]
  },
  {
   "cell_type": "code",
   "execution_count": null,
   "id": "7",
   "metadata": {},
   "outputs": [],
   "source": [
    "not_afr_set_diff_eur = not_afr[~not_afr['person_id'].isin(set(eur['person_id']))]"
   ]
  },
  {
   "cell_type": "code",
   "execution_count": null,
   "id": "8",
   "metadata": {},
   "outputs": [],
   "source": [
    "not_afr_set_diff_eur"
   ]
  },
  {
   "cell_type": "code",
   "execution_count": null,
   "id": "9",
   "metadata": {},
   "outputs": [],
   "source": [
    "aou_merge = pcs.merge(ancestry, left_on='IID', right_on='research_id', how='inner')\n",
    "pc_merge = not_afr_set_diff_eur.merge(pc, on='person_id', how='inner')"
   ]
  },
  {
   "cell_type": "code",
   "execution_count": null,
   "id": "10",
   "metadata": {},
   "outputs": [],
   "source": [
    "aou_merge['color'] = aou_merge['ancestry_pred'].apply(lambda x: 'eur' if x == 'eur' else 'other')"
   ]
  },
  {
   "cell_type": "code",
   "execution_count": null,
   "id": "11",
   "metadata": {},
   "outputs": [],
   "source": [
    "aou_merge.loc[aou_merge['research_id'].isin(set(pc_merge['person_id'])), 'color'] = 'not_afr_not_eur'"
   ]
  },
  {
   "cell_type": "code",
   "execution_count": null,
   "id": "12",
   "metadata": {},
   "outputs": [],
   "source": [
    "def plot_pc_pairs(df, label_col):\n",
    "    pc_x = 'pc1'\n",
    "    pc_y = 'pc2'\n",
    "    colors = ['#1f77b4', '#7f7f7f', '#2ca02c']  # Blue, Green, Gray in hex codes\n",
    "    sns.set_palette(colors)\n",
    "    sns.scatterplot(data=df, x=df[pc_x], y=df[pc_y], hue=label_col, alpha=0.5)\n",
    "    plt.legend(loc='upper left', bbox_to_anchor=(1, 1))\n",
    "    #plt.title(f'{pc_x} vs {pc_y}')\n",
    "    plt.legend(title=\"Ancestry\")\n",
    "\n",
    "    plt.tight_layout()\n",
    "    plt.show()\n",
    "plot_pc_pairs(aou_merge, label_col='color')"
   ]
  },
  {
   "cell_type": "code",
   "execution_count": null,
   "id": "13",
   "metadata": {},
   "outputs": [],
   "source": [
    "aou_merge[aou_merge['research_id']==1000104]"
   ]
  },
  {
   "cell_type": "code",
   "execution_count": null,
   "id": "14",
   "metadata": {},
   "outputs": [],
   "source": [
    "ancestry_preds = pd.read_csv(\"ancestry_preds.tsv\", sep=\"\\t\")"
   ]
  },
  {
   "cell_type": "code",
   "execution_count": null,
   "id": "15",
   "metadata": {},
   "outputs": [],
   "source": [
    "#afr,amr,eas,eur,mid,sas\n",
    "for i in range(6):\n",
    "    ancestry_preds[f\"p{i}\"] = ancestry_preds['probabilities'].apply(lambda x: ast.literal_eval(x)[i])"
   ]
  },
  {
   "cell_type": "code",
   "execution_count": null,
   "id": "16",
   "metadata": {},
   "outputs": [],
   "source": [
    "pcsubset_notafreur = ancestry_preds.merge(pc_merge, left_on='research_id', right_on='person_id',how='inner')"
   ]
  },
  {
   "cell_type": "code",
   "execution_count": null,
   "id": "17",
   "metadata": {},
   "outputs": [],
   "source": [
    "plt.hist(pcsubset_notafreur['p3']+pcsubset_notafreur['p1'])\n",
    "plt.xlabel(\"P(AMR)+P(EUR)\")"
   ]
  },
  {
   "cell_type": "code",
   "execution_count": null,
   "id": "18",
   "metadata": {},
   "outputs": [],
   "source": [
    "sns.countplot(x=pcsubset_notafreur['ancestry_pred_other'])\n"
   ]
  },
  {
   "cell_type": "code",
   "execution_count": null,
   "id": "19",
   "metadata": {},
   "outputs": [],
   "source": [
    "pc_merge"
   ]
  },
  {
   "cell_type": "code",
   "execution_count": null,
   "id": "20",
   "metadata": {},
   "outputs": [],
   "source": []
  }
 ],
 "metadata": {
  "kernelspec": {
   "display_name": "Python 3",
   "language": "python",
   "name": "python3"
  },
  "language_info": {
   "codemirror_mode": {
    "name": "ipython",
    "version": 3
   },
   "file_extension": ".py",
   "mimetype": "text/x-python",
   "name": "python",
   "nbconvert_exporter": "python",
   "pygments_lexer": "ipython3",
   "version": "3.10.12"
  },
  "toc": {
   "base_numbering": 1,
   "nav_menu": {},
   "number_sections": true,
   "sideBar": true,
   "skip_h1_title": false,
   "title_cell": "Table of Contents",
   "title_sidebar": "Contents",
   "toc_cell": false,
   "toc_position": {},
   "toc_section_display": true,
   "toc_window_display": false
  }
 },
 "nbformat": 4,
 "nbformat_minor": 5
}
