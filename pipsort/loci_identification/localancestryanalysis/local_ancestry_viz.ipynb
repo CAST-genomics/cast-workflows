{
 "cells": [
  {
   "cell_type": "code",
   "execution_count": null,
   "id": "0",
   "metadata": {},
   "outputs": [],
   "source": [
    "import pandas as pd\n",
    "import numpy as np\n",
    "import matplotlib.pyplot as plt\n",
    "import seaborn as sns"
   ]
  },
  {
   "cell_type": "code",
   "execution_count": null,
   "id": "1",
   "metadata": {},
   "outputs": [],
   "source": [
    "def plot3graphs(chrom, start, to, snppos, phenname):\n",
    "# chrom=22\n",
    "# start=49690507\n",
    "# to=50818468\n",
    "# snppos=50224992\n",
    "    a=pd.read_csv(f\"chr{chrom}_percent_ancestry_haplotypes_per_region_NOT_AFR_BLACK.csv\")\n",
    "    a2=pd.read_csv(f\"chr{chrom}_percent_ancestry_haplotypes_per_region_AFR_BLACK.csv\")\n",
    "    df=pd.read_csv(f\"interactiongwas/{chrom}_{snppos}_interaction_results.csv\")\n",
    "    df = df[(df['gnomix_region_start'] != \"gnomix_region_start\") & (df['gnomix_region_start'] != \"snpgeno\")]\n",
    "    df['gnomix_region_start'] = df['gnomix_region_start'].astype('int')\n",
    "    pvalcol = 'interaction_pvalue' if 'interaction_pvalue' in df.columns else 'interaction_pval'\n",
    "    df[pvalcol] = df[pvalcol].astype('float')\n",
    "    df['-log10pvalue'] = -np.log10(df[pvalcol])\n",
    "    df['chr'] = 1\n",
    "    df.reset_index(inplace=True)\n",
    "    for i in range(1, len(df) - 1):\n",
    "        if df['gnomix_region_start'].iloc[i] < df['gnomix_region_start'].iloc[i - 1]:\n",
    "            df.loc[i + 1:, 'chr'] += 1\n",
    "    \n",
    "    asub = a[(a['gnomix_start_pos']>=start) & (a['gnomix_start_pos']<=to)]\n",
    "    asub2 = a2[(a2['gnomix_start_pos']>=start) & (a2['gnomix_start_pos']<=to)]\n",
    "    subdf = df[(df['chr']==chrom) & (df['gnomix_region_start']>=start) & (df['gnomix_region_start']<=to)]\n",
    "    \n",
    "    fig, axs = plt.subplots(3, 1, figsize=(10, 9))\n",
    "\n",
    "    # First plot\n",
    "    axs[0].scatter(subdf['gnomix_region_start'], -np.log10(subdf['interaction_pvalue']))\n",
    "    axs[0].axvline(snppos, color='red', linestyle='--')\n",
    "    axs[0].set_title('Interaction P-value Plot')\n",
    "    axs[0].set_xlabel('gnomix_region_start')\n",
    "    axs[0].set_ylabel('-log10(interaction_pvalue)')\n",
    "\n",
    "    # Second plot\n",
    "    for col in asub.columns[1:]:  # Skip 'research_id' column\n",
    "        axs[1].plot(asub['gnomix_start_pos'], asub[col], marker='o', label=col)\n",
    "\n",
    "    axs[1].set_xlabel('gnomix_start_pos')\n",
    "    axs[1].set_ylabel('fraction local ancestry')\n",
    "    axs[1].legend(title=\"Categories\", bbox_to_anchor=(1.05, 1), loc='upper left')\n",
    "    axs[1].grid(True)\n",
    "    axs[1].axvline(snppos, color='red', linestyle='--')\n",
    "    axs[1].set_title('NOT AFR BLACK')\n",
    "\n",
    "    # Third plot\n",
    "    for col in asub2.columns[1:]:  # Skip 'research_id' column\n",
    "        axs[2].plot(asub2['gnomix_start_pos'], asub2[col], marker='o', label=col)\n",
    "\n",
    "    axs[2].set_xlabel('gnomix_start_pos')\n",
    "    axs[2].set_ylabel('fraction local ancestry')\n",
    "    axs[2].legend(title=\"Categories\", bbox_to_anchor=(1.05, 1), loc='upper left')\n",
    "    axs[2].grid(True)\n",
    "    axs[2].axvline(snppos, color='red', linestyle='--')\n",
    "    axs[2].set_title('AFR BLACK')\n",
    "\n",
    "    # Adjust layout\n",
    "    plt.tight_layout()\n",
    "\n",
    "    plt.savefig(f\"{chrom}_{start}_{to}_{snppos}_{phenname}_localancestry_interaction_fig\")\n",
    "    # Show the combined plot\n",
    "    plt.show()\n"
   ]
  },
  {
   "cell_type": "code",
   "execution_count": null,
   "id": "2",
   "metadata": {},
   "outputs": [],
   "source": [
    "inputs = pd.read_csv(\"inputs.csv\", header=None)\n",
    "inputs[:10]"
   ]
  },
  {
   "cell_type": "code",
   "execution_count": null,
   "id": "3",
   "metadata": {},
   "outputs": [],
   "source": [
    "for i in range(inputs.shape[0]):\n",
    "    chrom = int(inputs.iloc[i][0])\n",
    "    start = int(inputs.iloc[i][1])\n",
    "    to = int(inputs.iloc[i][2])\n",
    "    snppos = int(inputs.iloc[i][3])\n",
    "    phenname = inputs.iloc[i][5]\n",
    "    if chrom != 1 and chrom != 2:\n",
    "        print(chrom, start, to, snppos, phenname)\n",
    "        plot3graphs(chrom, start, to, snppos, phenname)"
   ]
  },
  {
   "cell_type": "code",
   "execution_count": null,
   "id": "4",
   "metadata": {},
   "outputs": [],
   "source": [
    "plot3graphs(22, 49690507, 50818468, 50224992)"
   ]
  },
  {
   "cell_type": "code",
   "execution_count": null,
   "id": "5",
   "metadata": {},
   "outputs": [],
   "source": [
    "plt.figure(figsize=(10, 6))\n",
    "plt.scatter(subdf['gnomix_region_start'], -np.log10(subdf['interaction_pvalue']))\n",
    "plt.axvline(snppos)\n",
    "plt.show()"
   ]
  },
  {
   "cell_type": "code",
   "execution_count": null,
   "id": "6",
   "metadata": {},
   "outputs": [],
   "source": [
    "plt.figure(figsize=(10, 6))\n",
    "for col in asub.columns[1:]:  # Skip 'research_id' column\n",
    "    plt.plot(asub['gnomix_start_pos'], asub[col], marker='o', label=col)\n",
    "\n",
    "# Customize the plot\n",
    "plt.xlabel('gnomix_start_pos')\n",
    "plt.ylabel('fraction local ancestry')\n",
    "plt.legend(title=\"Categories\", bbox_to_anchor=(1.05, 1), loc='upper left')\n",
    "plt.grid(True)\n",
    "plt.tight_layout()\n",
    "plt.axvline(snppos)\n",
    "\n",
    "# Show the plot\n",
    "plt.show()"
   ]
  },
  {
   "cell_type": "code",
   "execution_count": null,
   "id": "7",
   "metadata": {},
   "outputs": [],
   "source": [
    "plt.figure(figsize=(10, 6))\n",
    "for col in asub2.columns[1:]:  # Skip 'research_id' column\n",
    "    plt.plot(asub2['gnomix_start_pos'], asub2[col], marker='o', label=col)\n",
    "\n",
    "# Customize the plot\n",
    "plt.xlabel('gnomix_start_pos')\n",
    "plt.ylabel('fraction local ancestry')\n",
    "plt.legend(title=\"Categories\", bbox_to_anchor=(1.05, 1), loc='upper left')\n",
    "plt.grid(True)\n",
    "plt.tight_layout()\n",
    "plt.axvline(snppos)\n",
    "\n",
    "# Show the plot\n",
    "plt.show()"
   ]
  },
  {
   "cell_type": "code",
   "execution_count": null,
   "id": "8",
   "metadata": {},
   "outputs": [],
   "source": [
    "\n",
    "df = pd.read_csv(\"1_78048734_78212104_ldl_cholesterol_plink_20076373_interaction_results.csv\")"
   ]
  },
  {
   "cell_type": "code",
   "execution_count": null,
   "id": "9",
   "metadata": {},
   "outputs": [],
   "source": [
    "df.columns"
   ]
  },
  {
   "cell_type": "code",
   "execution_count": null,
   "id": "10",
   "metadata": {},
   "outputs": [],
   "source": [
    "def quick_graph_manhattan(data_file):\n",
    "    data = pd.read_csv(data_file)\n",
    "    print(data.shape)\n",
    "    #data = data.rename(columns={'#CHROM':\"CHR\", \"POS\":\"BP\", \"ID\":\"SNP\"})\n",
    "    data['pos'] = data['varid'].apply(lambda x: x.split(':')[1])\n",
    "    plt.scatter(data['pos'].astype('int'), -np.log10(data['interaction_pval']), color='grey', marker='o', s=10)"
   ]
  },
  {
   "cell_type": "code",
   "execution_count": null,
   "id": "11",
   "metadata": {},
   "outputs": [],
   "source": [
    "quick_graph_manhattan(\"1_78048734_78212104_ldl_cholesterol_plink_20076373_interaction_results.csv\")"
   ]
  },
  {
   "cell_type": "code",
   "execution_count": null,
   "id": "12",
   "metadata": {},
   "outputs": [],
   "source": [
    "df = pd.read_csv(\"1_78048734_78212104_ldl_cholesterol_plink_20076373_interaction_results.csv\")"
   ]
  },
  {
   "cell_type": "code",
   "execution_count": null,
   "id": "13",
   "metadata": {},
   "outputs": [],
   "source": [
    "df['geno_pval'].min()"
   ]
  },
  {
   "cell_type": "code",
   "execution_count": null,
   "id": "14",
   "metadata": {},
   "outputs": [],
   "source": [
    "df[df['geno_pval']< 1e-15]"
   ]
  },
  {
   "cell_type": "code",
   "execution_count": null,
   "id": "15",
   "metadata": {},
   "outputs": [],
   "source": [
    "quick_graph_manhattan(\"7_100791968_100983467_platelet_count_plink_100547492_interaction_results.csv\")"
   ]
  },
  {
   "cell_type": "code",
   "execution_count": null,
   "id": "16",
   "metadata": {},
   "outputs": [],
   "source": [
    "df2 = pd.read_csv(\"7_100791968_100983467_platelet_count_plink_100547492_interaction_results.csv\")\n",
    "df2['geno_pval'].min()"
   ]
  },
  {
   "cell_type": "code",
   "execution_count": null,
   "id": "17",
   "metadata": {},
   "outputs": [],
   "source": [
    "df2[df2['geno_pval']< 1e-10]"
   ]
  },
  {
   "cell_type": "code",
   "execution_count": null,
   "id": "18",
   "metadata": {},
   "outputs": [],
   "source": []
  }
 ],
 "metadata": {
  "kernelspec": {
   "display_name": "Python 3",
   "language": "python",
   "name": "python3"
  },
  "language_info": {
   "codemirror_mode": {
    "name": "ipython",
    "version": 3
   },
   "file_extension": ".py",
   "mimetype": "text/x-python",
   "name": "python",
   "nbconvert_exporter": "python",
   "pygments_lexer": "ipython3",
   "version": "3.10.12"
  },
  "toc": {
   "base_numbering": 1,
   "nav_menu": {},
   "number_sections": true,
   "sideBar": true,
   "skip_h1_title": false,
   "title_cell": "Table of Contents",
   "title_sidebar": "Contents",
   "toc_cell": false,
   "toc_position": {},
   "toc_section_display": true,
   "toc_window_display": false
  }
 },
 "nbformat": 4,
 "nbformat_minor": 5
}
